{
 "cells": [
  {
   "cell_type": "code",
   "execution_count": 16,
   "id": "4b5c6487",
   "metadata": {},
   "outputs": [
    {
     "name": "stdout",
     "output_type": "stream",
     "text": [
      "FirstName\t LastName\t Age\t Salary \n",
      "Ahmed \t\t Raghad \t 24 \t 3000.5\n",
      "Ahmed \t\t Raghad \t 24 \t 3000.5\n",
      "Ahmed \t\t Raghad \t 24 \t 3000.5\n",
      "Ahmed \t\t Raghad \t 24 \t 3000.5\n",
      "Ahmed \t\t Raghad \t 24 \t 3000.5\n",
      "Ahmed \t\t Raghad \t 24 \t 3000.5\n",
      "Ahmed \t\t Raghad \t 24 \t 3000.5\n",
      "Ahmed \t\t Raghad \t 24 \t 3000.5\n",
      "Ahmed \t\t Raghad \t 24 \t 3000.5\n",
      "Ahmed \t\t Raghad \t 24 \t 3000.5\n",
      "Ahmed \t\t Raghad \t 24 \t 3000.5\n",
      "Ahmed \t\t Raghad \t 24 \t 3000.5\n",
      "Ahmed \t\t Raghad \t 24 \t 3000.5\n",
      "Ahmed \t\t Raghad \t 24 \t 3000.5\n",
      "Ahmed \t\t Raghad \t 24 \t 3000.5\n",
      "Ahmed \t\t Raghad \t 24 \t 3000.5\n",
      "Ahmed \t\t Raghad \t 24 \t 3000.5\n",
      "Ahmed \t\t Raghad \t 24 \t 3000.5\n",
      "Ahmed \t\t Raghad \t 24 \t 3000.5\n",
      "Ahmed \t\t Raghad \t 24 \t 3000.5\n"
     ]
    }
   ],
   "source": [
    "FirstName = \"Ahmed\"\n",
    "LastName = \"Raghad\"\n",
    "Age = 24\n",
    "Salary = 3000.5\n",
    "count = 1\n",
    "print(\"FirstName\\t LastName\\t Age\\t Salary \")\n",
    "while(count <= 20):\n",
    "    print(FirstName,\"\\t\\t\", LastName,\"\\t\", Age,\"\\t\", Salary)\n",
    "    count = count + 1"
   ]
  },
  {
   "cell_type": "code",
   "execution_count": null,
   "id": "d113a389",
   "metadata": {},
   "outputs": [],
   "source": []
  }
 ],
 "metadata": {
  "kernelspec": {
   "display_name": "Python 3 (ipykernel)",
   "language": "python",
   "name": "python3"
  },
  "language_info": {
   "codemirror_mode": {
    "name": "ipython",
    "version": 3
   },
   "file_extension": ".py",
   "mimetype": "text/x-python",
   "name": "python",
   "nbconvert_exporter": "python",
   "pygments_lexer": "ipython3",
   "version": "3.11.1"
  }
 },
 "nbformat": 4,
 "nbformat_minor": 5
}
