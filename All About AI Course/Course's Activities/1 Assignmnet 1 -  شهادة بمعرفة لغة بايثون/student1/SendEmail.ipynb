{
 "cells": [
  {
   "cell_type": "code",
   "execution_count": 8,
   "id": "4e52d591",
   "metadata": {},
   "outputs": [],
   "source": [
    "import smtplib"
   ]
  },
  {
   "cell_type": "code",
   "execution_count": 9,
   "id": "b1f663b1",
   "metadata": {},
   "outputs": [],
   "source": [
    "sender = 'akram@psut.edu.jo'\n",
    "receivers = ['ahmed@psut.edu.jo','a2@psut.edu.jo']\n",
    "message = \"\"\"\"Welcome, dear students, to the beginning of the academic year \n",
    "You can join this course\n",
    "I wish you good luck\n",
    "\"\"\""
   ]
  },
  {
   "cell_type": "code",
   "execution_count": 11,
   "id": "5295ff17",
   "metadata": {},
   "outputs": [
    {
     "name": "stdout",
     "output_type": "stream",
     "text": [
      "error: unable to sent email\n"
     ]
    }
   ],
   "source": [
    "try:\n",
    "    smtpObj = smtplib.SMTP('www.psut.edu.jo')\n",
    "    smtpObj.sendmail(sender,receivers,message)\n",
    "    print(\"successfully sent email\")\n",
    "except:\n",
    "    print(\"error: unable to sent email\")"
   ]
  }
 ],
 "metadata": {
  "kernelspec": {
   "display_name": "Python 3 (ipykernel)",
   "language": "python",
   "name": "python3"
  },
  "language_info": {
   "codemirror_mode": {
    "name": "ipython",
    "version": 3
   },
   "file_extension": ".py",
   "mimetype": "text/x-python",
   "name": "python",
   "nbconvert_exporter": "python",
   "pygments_lexer": "ipython3",
   "version": "3.11.1"
  }
 },
 "nbformat": 4,
 "nbformat_minor": 5
}
