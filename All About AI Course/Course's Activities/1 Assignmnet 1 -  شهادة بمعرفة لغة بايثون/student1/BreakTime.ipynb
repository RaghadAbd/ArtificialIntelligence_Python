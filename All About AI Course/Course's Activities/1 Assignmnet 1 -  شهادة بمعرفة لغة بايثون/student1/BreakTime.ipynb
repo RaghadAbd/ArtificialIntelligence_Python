{
 "cells": [
  {
   "cell_type": "code",
   "execution_count": 31,
   "id": "0d04bcff",
   "metadata": {},
   "outputs": [],
   "source": [
    "import webbrowser"
   ]
  },
  {
   "cell_type": "code",
   "execution_count": 32,
   "id": "9ee549fb",
   "metadata": {},
   "outputs": [],
   "source": [
    "import time"
   ]
  },
  {
   "cell_type": "code",
   "execution_count": 35,
   "id": "313c9031",
   "metadata": {},
   "outputs": [],
   "source": [
    "start_time = time.ctime()\n",
    "#print (start_time)"
   ]
  },
  {
   "cell_type": "code",
   "execution_count": 36,
   "id": "0940455a",
   "metadata": {},
   "outputs": [],
   "source": [
    "start = 1\n",
    "target = 10"
   ]
  },
  {
   "cell_type": "code",
   "execution_count": null,
   "id": "eca28176",
   "metadata": {},
   "outputs": [],
   "source": [
    "while start <= target:\n",
    "    webbrowser.open(\"https://www.youtube.com/watch?v=bE_oFQMOt1o\")\n",
    "    time.sleep(60)\n",
    "    start = start + 1"
   ]
  }
 ],
 "metadata": {
  "kernelspec": {
   "display_name": "Python 3 (ipykernel)",
   "language": "python",
   "name": "python3"
  },
  "language_info": {
   "codemirror_mode": {
    "name": "ipython",
    "version": 3
   },
   "file_extension": ".py",
   "mimetype": "text/x-python",
   "name": "python",
   "nbconvert_exporter": "python",
   "pygments_lexer": "ipython3",
   "version": "3.11.1"
  }
 },
 "nbformat": 4,
 "nbformat_minor": 5
}
